{
 "cells": [
  {
   "cell_type": "code",
   "execution_count": 5,
   "metadata": {},
   "outputs": [],
   "source": [
    "import numpy as np\n",
    "import pandas as pd \n",
    "import matplotlib.pyplot as plt\n",
    "from lab_utils_uni import plt_house_x, plt_contour_wgrad, plt_divergence, plt_gradients"
   ]
  },
  {
   "cell_type": "code",
   "execution_count": 6,
   "metadata": {},
   "outputs": [],
   "source": [
    "# Load our data set\n",
    "x_train = np.array([1.0, 2.0])   #features\n",
    "y_train = np.array([300.0, 500.0])   #target value"
   ]
  },
  {
   "cell_type": "code",
   "execution_count": 8,
   "metadata": {},
   "outputs": [],
   "source": [
    "# function to calculate the cost \n",
    "\n",
    "def cal_cost(x,y,w,b):\n",
    "    m = x.shape[0]\n",
    "    cost =0 \n",
    "    \n",
    "    for i in range(m):\n",
    "        f_wb = w*x[i]+b \n",
    "        \n",
    "        cost = cost + ((f_wb - y[i])**2)\n",
    "        \n",
    "    total_cost = (1/2*m )*(cost)\n",
    "    \n",
    "    return total_cost \n"
   ]
  },
  {
   "cell_type": "code",
   "execution_count": 10,
   "metadata": {},
   "outputs": [],
   "source": [
    "# calculate the gradient descent \n",
    "\n",
    "def gradient_desc(x,y,w,b):\n",
    "    \n",
    "    m = x.shape[0]\n",
    "    dw=0\n",
    "    db = 0\n",
    "    \n",
    "    for i in range(m):\n",
    "        f_wb = w*x[i]+b\n",
    "        \n",
    "        dw_i = (f_wb -y[i])*x[i]\n",
    "        db_i = (f_wb-y[i])\n",
    "        dw+=dw_i\n",
    "        db+=db_i\n",
    "        \n",
    "        dw = dw/m\n",
    "        db = db/m\n",
    "        \n",
    "        return dw,db"
   ]
  },
  {
   "cell_type": "code",
   "execution_count": null,
   "metadata": {},
   "outputs": [],
   "source": []
  }
 ],
 "metadata": {
  "kernelspec": {
   "display_name": "Python 3",
   "language": "python",
   "name": "python3"
  },
  "language_info": {
   "codemirror_mode": {
    "name": "ipython",
    "version": 3
   },
   "file_extension": ".py",
   "mimetype": "text/x-python",
   "name": "python",
   "nbconvert_exporter": "python",
   "pygments_lexer": "ipython3",
   "version": "3.7.6"
  }
 },
 "nbformat": 4,
 "nbformat_minor": 4
}
